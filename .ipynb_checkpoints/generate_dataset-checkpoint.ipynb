{
 "cells": [
  {
   "cell_type": "code",
   "execution_count": 2,
   "metadata": {},
   "outputs": [],
   "source": [
    "import os\n",
    "import cv2\n",
    "import numpy as np\n",
    "import pandas as pdd\n",
    "import matplotlib.pyplot as plt"
   ]
  },
  {
   "cell_type": "code",
   "execution_count": null,
   "metadata": {},
   "outputs": [],
   "source": [
    "from my_utils import generate_downsampled_dataset"
   ]
  },
  {
   "cell_type": "code",
   "execution_count": null,
   "metadata": {},
   "outputs": [],
   "source": [
    "data_path = '/home/myp7435/Pop_freeReach_0317_merged-Min-2020-04-19/labeled-data/'\n",
    "image_folders = ['cam_0', 'cam_1', 'cam_2', 'cam_3', \n",
    "                 'cam_0_0610', 'cam_1_0610', 'cam_2_0610', 'cam_3_0610', \n",
    "                 'cam_0_0811', 'cam_1_0811', 'cam_2_0811', 'cam_3_0811',\n",
    "                 'cam_0_0811_b5', 'cam_1_0811_b5', 'cam_2_0811_b5', 'cam_3_0811_b5',\n",
    "                 'cam_0_0811_b6', 'cam_1_0811_b6', 'cam_2_0811_b6', 'cam_3_0811_b6',\n",
    "                 'cam_0_0827_b1', 'cam_1_0827_b1', 'cam_2_0827_b1', 'cam_3_0827_b1', \n",
    "                 'cam_0_0827_b2', 'cam_1_0827_b2', 'cam_2_0827_b2', 'cam_3_0827_b2', \n",
    "                 'cam_0_1103_b1', 'cam_1_1103_b1', 'cam_2_1103_b1', 'cam_3_1103_b1', \n",
    "                 'cam_0_1103_b2', 'cam_1_1103_b2', 'cam_2_1103_b2', 'cam_3_1103_b2', \n",
    "                ]\n",
    "generate_downsampled_dataset(data_path, image_folders, save_path, scale)"
   ]
  }
 ],
 "metadata": {
  "kernelspec": {
   "display_name": "Python 3",
   "language": "python",
   "name": "python3"
  },
  "language_info": {
   "codemirror_mode": {
    "name": "ipython",
    "version": 3
   },
   "file_extension": ".py",
   "mimetype": "text/x-python",
   "name": "python",
   "nbconvert_exporter": "python",
   "pygments_lexer": "ipython3",
   "version": "3.6.8"
  }
 },
 "nbformat": 4,
 "nbformat_minor": 4
}
