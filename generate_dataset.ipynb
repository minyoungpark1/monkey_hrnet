{
 "cells": [
  {
   "cell_type": "code",
   "execution_count": 1,
   "metadata": {},
   "outputs": [],
   "source": [
    "import os\n",
    "import cv2\n",
    "import numpy as np\n",
    "import pandas as pdd\n",
    "import matplotlib.pyplot as plt"
   ]
  },
  {
   "cell_type": "code",
   "execution_count": 2,
   "metadata": {},
   "outputs": [],
   "source": [
    "from my_utils import generate_downsampled_dataset"
   ]
  },
  {
   "cell_type": "code",
   "execution_count": 3,
   "metadata": {},
   "outputs": [
    {
     "name": "stderr",
     "output_type": "stream",
     "text": [
      "100%|██████████| 359/359 [00:16<00:00, 21.72it/s]\n",
      "100%|██████████| 359/359 [00:18<00:00, 18.97it/s]\n",
      "100%|██████████| 152/152 [00:08<00:00, 17.78it/s]\n",
      "100%|██████████| 148/148 [00:07<00:00, 21.04it/s]\n",
      "100%|██████████| 30/30 [00:01<00:00, 22.73it/s]\n",
      "100%|██████████| 30/30 [00:01<00:00, 19.50it/s]\n",
      "100%|██████████| 30/30 [00:01<00:00, 18.02it/s]\n",
      "100%|██████████| 30/30 [00:01<00:00, 20.16it/s]\n",
      "100%|██████████| 43/43 [00:01<00:00, 22.26it/s]\n",
      "100%|██████████| 43/43 [00:02<00:00, 18.22it/s]\n",
      "100%|██████████| 43/43 [00:02<00:00, 17.28it/s]\n",
      "100%|██████████| 43/43 [00:02<00:00, 19.69it/s]\n",
      "100%|██████████| 348/348 [00:15<00:00, 22.23it/s]\n",
      "100%|██████████| 348/348 [00:18<00:00, 18.88it/s]\n",
      "100%|██████████| 348/348 [00:19<00:00, 17.79it/s]\n",
      "100%|██████████| 348/348 [00:16<00:00, 20.86it/s]\n",
      "100%|██████████| 1000/1000 [00:45<00:00, 22.20it/s]\n",
      "100%|██████████| 1000/1000 [00:53<00:00, 18.79it/s]\n",
      "100%|██████████| 1000/1000 [00:57<00:00, 17.30it/s]\n",
      "100%|██████████| 1000/1000 [00:48<00:00, 20.79it/s]\n",
      "100%|██████████| 355/355 [00:16<00:00, 21.50it/s]\n",
      "100%|██████████| 355/355 [00:20<00:00, 17.12it/s]\n",
      "100%|██████████| 355/355 [00:21<00:00, 16.68it/s]\n",
      "100%|██████████| 355/355 [00:17<00:00, 19.95it/s]\n",
      "100%|██████████| 1000/1000 [00:46<00:00, 21.47it/s]\n",
      "100%|██████████| 1000/1000 [00:58<00:00, 16.97it/s]\n",
      "100%|██████████| 1000/1000 [00:59<00:00, 16.69it/s]\n",
      "100%|██████████| 1000/1000 [01:06<00:00, 15.15it/s]\n",
      "100%|██████████| 154/154 [00:07<00:00, 20.46it/s]\n",
      "100%|██████████| 154/154 [00:11<00:00, 13.41it/s]\n",
      "100%|██████████| 154/154 [00:11<00:00, 13.05it/s]\n",
      "100%|██████████| 154/154 [00:09<00:00, 16.10it/s]\n",
      "100%|██████████| 1000/1000 [00:56<00:00, 17.73it/s]\n",
      "100%|██████████| 1000/1000 [01:12<00:00, 13.74it/s]\n",
      "100%|██████████| 1000/1000 [01:14<00:00, 13.48it/s]\n",
      "100%|██████████| 1000/1000 [01:06<00:00, 14.99it/s]\n"
     ]
    }
   ],
   "source": [
    "data_path = '/home/myp7435/Pop_freeReach_0317_merged-Min-2020-04-19/labeled-data/'\n",
    "image_folders = ['cam_0', 'cam_1', 'cam_2', 'cam_3', \n",
    "                 'cam_0_0610', 'cam_1_0610', 'cam_2_0610', 'cam_3_0610', \n",
    "                 'cam_0_0811', 'cam_1_0811', 'cam_2_0811', 'cam_3_0811',\n",
    "                 'cam_0_0811_b5', 'cam_1_0811_b5', 'cam_2_0811_b5', 'cam_3_0811_b5',\n",
    "                 'cam_0_0811_b6', 'cam_1_0811_b6', 'cam_2_0811_b6', 'cam_3_0811_b6',\n",
    "                 'cam_0_0827_b1', 'cam_1_0827_b1', 'cam_2_0827_b1', 'cam_3_0827_b1', \n",
    "                 'cam_0_0827_b2', 'cam_1_0827_b2', 'cam_2_0827_b2', 'cam_3_0827_b2', \n",
    "                 'cam_0_1103_b1', 'cam_1_1103_b1', 'cam_2_1103_b1', 'cam_3_1103_b1', \n",
    "                 'cam_0_1103_b2', 'cam_1_1103_b2', 'cam_2_1103_b2', 'cam_3_1103_b2', \n",
    "                ]\n",
    "save_path = '/home/myp7435/downsampled_data'\n",
    "scale = 0.25\n",
    "generate_downsampled_dataset(data_path, image_folders, save_path, scale)"
   ]
  },
  {
   "cell_type": "code",
   "execution_count": 3,
   "metadata": {},
   "outputs": [
    {
     "name": "stderr",
     "output_type": "stream",
     "text": [
      "t:   0%|          | 6/18000 [00:00<05:30, 54.47it/s, now=None]"
     ]
    },
    {
     "name": "stdout",
     "output_type": "stream",
     "text": [
      "Moviepy - Building video /home/myp7435/downsampled_videos/1217/experiment/cam_0.mp4.\n",
      "Moviepy - Writing video /home/myp7435/downsampled_videos/1217/experiment/cam_0.mp4\n",
      "\n"
     ]
    },
    {
     "name": "stderr",
     "output_type": "stream",
     "text": [
      "                                                                  \r"
     ]
    },
    {
     "name": "stdout",
     "output_type": "stream",
     "text": [
      "Moviepy - Done !\n",
      "Moviepy - video ready /home/myp7435/downsampled_videos/1217/experiment/cam_0.mp4\n",
      "(512.0, 384.0)\n"
     ]
    },
    {
     "name": "stderr",
     "output_type": "stream",
     "text": [
      "t:   0%|          | 7/18000 [00:00<04:34, 65.64it/s, now=None]"
     ]
    },
    {
     "name": "stdout",
     "output_type": "stream",
     "text": [
      "Moviepy - Building video /home/myp7435/downsampled_videos/1217/experiment/cam_1.mp4.\n",
      "Moviepy - Writing video /home/myp7435/downsampled_videos/1217/experiment/cam_1.mp4\n",
      "\n"
     ]
    },
    {
     "name": "stderr",
     "output_type": "stream",
     "text": [
      "                                                                  \r"
     ]
    },
    {
     "name": "stdout",
     "output_type": "stream",
     "text": [
      "Moviepy - Done !\n",
      "Moviepy - video ready /home/myp7435/downsampled_videos/1217/experiment/cam_1.mp4\n",
      "(512.0, 384.0)\n"
     ]
    },
    {
     "name": "stderr",
     "output_type": "stream",
     "text": [
      "t:   0%|          | 7/18000 [00:00<04:41, 64.00it/s, now=None]"
     ]
    },
    {
     "name": "stdout",
     "output_type": "stream",
     "text": [
      "Moviepy - Building video /home/myp7435/downsampled_videos/1217/experiment/cam_2.mp4.\n",
      "Moviepy - Writing video /home/myp7435/downsampled_videos/1217/experiment/cam_2.mp4\n",
      "\n"
     ]
    },
    {
     "name": "stderr",
     "output_type": "stream",
     "text": [
      "                                                                  \r"
     ]
    },
    {
     "name": "stdout",
     "output_type": "stream",
     "text": [
      "Moviepy - Done !\n",
      "Moviepy - video ready /home/myp7435/downsampled_videos/1217/experiment/cam_2.mp4\n",
      "(512.0, 384.0)\n"
     ]
    },
    {
     "name": "stderr",
     "output_type": "stream",
     "text": [
      "t:   0%|          | 6/18000 [00:00<05:41, 52.72it/s, now=None]"
     ]
    },
    {
     "name": "stdout",
     "output_type": "stream",
     "text": [
      "Moviepy - Building video /home/myp7435/downsampled_videos/1217/experiment/cam_3.mp4.\n",
      "Moviepy - Writing video /home/myp7435/downsampled_videos/1217/experiment/cam_3.mp4\n",
      "\n"
     ]
    },
    {
     "name": "stderr",
     "output_type": "stream",
     "text": [
      "                                                                  "
     ]
    },
    {
     "name": "stdout",
     "output_type": "stream",
     "text": [
      "Moviepy - Done !\n",
      "Moviepy - video ready /home/myp7435/downsampled_videos/1217/experiment/cam_3.mp4\n",
      "(512.0, 384.0)\n"
     ]
    },
    {
     "name": "stderr",
     "output_type": "stream",
     "text": [
      "\r"
     ]
    }
   ],
   "source": [
    "import os\n",
    "from my_utils import generate_downsampled_video\n",
    "\n",
    "raw_video_folder = '/home/myp7435/Pop_freeReach_0317_merged-Min-2020-04-19/videos/1217'\n",
    "video_paths = [os.path.join(raw_video_folder, 'cam_'+str(i)+'.avi') for i in range(4)]\n",
    "\n",
    "save_video_folder = '/home/myp7435/downsampled_videos/1217'\n",
    "save_paths = [os.path.join(save_video_folder, 'experiment', 'cam_'+str(i)+'.mp4') for i in range(4)]\n",
    "\n",
    "width = 512\n",
    "\n",
    "for video_path, save_path in zip(video_paths, save_paths):\n",
    "    generate_downsampled_video(video_path, save_path, width)"
   ]
  },
  {
   "cell_type": "code",
   "execution_count": 5,
   "metadata": {},
   "outputs": [
    {
     "name": "stdout",
     "output_type": "stream",
     "text": [
      "CustomDataset.py  analysis.ipynb          \u001b[0m\u001b[01;34mhrnet\u001b[0m/       test.py\n",
      "README.md         \u001b[01;34mdataset\u001b[0m/                \u001b[01;34mlog\u001b[0m/         train.ipynb\n",
      "\u001b[01;34m__pycache__\u001b[0m/      function.py             my_utils.py\n",
      "_init_paths.py    generate_dataset.ipynb  \u001b[01;34moutput\u001b[0m/\n"
     ]
    }
   ],
   "source": [
    "ls"
   ]
  },
  {
   "cell_type": "code",
   "execution_count": null,
   "metadata": {},
   "outputs": [],
   "source": []
  }
 ],
 "metadata": {
  "kernelspec": {
   "display_name": "Python 3",
   "language": "python",
   "name": "python3"
  },
  "language_info": {
   "codemirror_mode": {
    "name": "ipython",
    "version": 3
   },
   "file_extension": ".py",
   "mimetype": "text/x-python",
   "name": "python",
   "nbconvert_exporter": "python",
   "pygments_lexer": "ipython3",
   "version": "3.6.8"
  }
 },
 "nbformat": 4,
 "nbformat_minor": 4
}
