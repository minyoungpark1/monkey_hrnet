{
 "cells": [
  {
   "cell_type": "markdown",
   "metadata": {},
   "source": [
    "# Load packages"
   ]
  },
  {
   "cell_type": "code",
   "execution_count": 2,
   "metadata": {},
   "outputs": [],
   "source": [
    "import os\n",
    "import re\n",
    "import numpy as np\n",
    "import pandas as pd\n",
    "from tqdm import tqdm"
   ]
  },
  {
   "cell_type": "markdown",
   "metadata": {},
   "source": [
    "# Load data"
   ]
  },
  {
   "cell_type": "code",
   "execution_count": 4,
   "metadata": {},
   "outputs": [
    {
     "name": "stderr",
     "output_type": "stream",
     "text": [
      "100%|██████████| 126/126 [00:43<00:00,  2.91it/s]\n",
      "100%|██████████| 126/126 [00:35<00:00,  3.55it/s]\n",
      "100%|██████████| 126/126 [00:40<00:00,  3.15it/s]\n",
      "100%|██████████| 126/126 [00:43<00:00,  2.92it/s]\n"
     ]
    }
   ],
   "source": [
    "parent_folder = '/home/myp7435/downsampled_videos/1217'\n",
    "label_paths = [os.path.join(parent_folder, 'labeled', 'cam_'+str(i)+'_labeled.csv') for i in range(4)]\n",
    "# infer_paths = [os.path.join(parent_folder, 'experiment', 'cam_'+str(i)+'_trimmed_output.csv') for i in range(4)]\n",
    "infer_paths = [os.path.join(parent_folder, 'experiment_sam', 'cam_'+str(i)+'_output.csv') for i in range(4)]\n",
    "\n",
    "joints = ['Wrist', 'CMC_thumb', 'MCP_thumb', 'MCP1', 'MCP2', 'MCP3', 'MCP4',\n",
    "          'IP_thumb', 'PIP1', 'PIP2', 'PIP3', 'PIP4', 'Dip1', 'Dip2', 'Dip3', 'Dip4',\n",
    "          'Tip_thumb', 'Tip1', 'Tip2', 'Tip3', 'Tip4']\n",
    "\n",
    "likelihood_cutoffs = [0.05, 0.1, 0.15, 0.2, 0.25, 0.3, 0.35, 0.4, 0.45, 0.5]\n",
    "err_likelihood_cut = {cutoff:[] for cutoff in likelihood_cutoffs}\n",
    "reject_likelihood_cut = {cutoff:0 for cutoff in likelihood_cutoffs}\n",
    "\n",
    "for label_path, infer_path in zip(label_paths, infer_paths):\n",
    "    df_label = pd.read_csv(label_path, header=[2,3], index_col=0)\n",
    "    df_infer = pd.read_csv(infer_path, header=[0,1], index_col=0)\n",
    "    \n",
    "    indices = [int(re.findall(r'\\d+', file)[-1]) for file in df_label.index]\n",
    "    \n",
    "    \n",
    "    for i, index in enumerate(tqdm(indices)):\n",
    "        for joint in joints:\n",
    "            for likelihood_cutoff in likelihood_cutoffs:\n",
    "                if df_infer[joint]['likelihood'][i] > likelihood_cutoff:\n",
    "                    label = np.array([df_label[joint]['x'][i], df_label[joint]['y'][i]])\n",
    "                    infer = np.array([df_infer[joint]['x'].iloc[index], df_infer[joint]['y'].iloc[index]])\n",
    "                    dist = np.linalg.norm(label - infer, axis=0)\n",
    "                    err_likelihood_cut[likelihood_cutoff].append(dist)\n",
    "                else:\n",
    "                    reject_likelihood_cut[likelihood_cutoff] += 1"
   ]
  },
  {
   "cell_type": "markdown",
   "metadata": {},
   "source": [
    "# Compute test-error w/ different likelihood cutoffs"
   ]
  },
  {
   "cell_type": "code",
   "execution_count": 5,
   "metadata": {},
   "outputs": [
    {
     "name": "stdout",
     "output_type": "stream",
     "text": [
      "Test error (0.05 cutoff): 6.72 ± 0.00165 (pixels) | 0.000 rejected\n",
      "Test error (0.1 cutoff): 6.72 ± 0.00165 (pixels) | 0.001 rejected\n",
      "Test error (0.15 cutoff): 6.72 ± 0.00165 (pixels) | 0.003 rejected\n",
      "Test error (0.2 cutoff): 6.72 ± 0.00167 (pixels) | 0.015 rejected\n",
      "Test error (0.25 cutoff): 6.71 ± 0.00174 (pixels) | 0.044 rejected\n",
      "Test error (0.3 cutoff): 6.65 ± 0.00188 (pixels) | 0.095 rejected\n",
      "Test error (0.35 cutoff): 6.62 ± 0.00206 (pixels) | 0.152 rejected\n",
      "Test error (0.4 cutoff): 6.56 ± 0.00232 (pixels) | 0.233 rejected\n",
      "Test error (0.45 cutoff): 6.60 ± 0.00271 (pixels) | 0.318 rejected\n",
      "Test error (0.5 cutoff): 6.46 ± 0.00323 (pixels) | 0.428 rejected\n"
     ]
    }
   ],
   "source": [
    "for likelihood_cutoff in likelihood_cutoffs:\n",
    "    prop_nan = reject_likelihood_cut[likelihood_cutoff]/(len(indices)*len(joints)*len(label_paths))\n",
    "    err_mean = np.nanmean(err_likelihood_cut[likelihood_cutoff])\n",
    "    err_stderr = np.nanstd(err_likelihood_cut[likelihood_cutoff])/np.sum(np.isfinite(err_likelihood_cut[likelihood_cutoff]))\n",
    "    print(f'Test error ({likelihood_cutoff} cutoff): {err_mean:.2f} ± {err_stderr:.5f} (pixels) | {prop_nan:.3f} rejected')"
   ]
  },
  {
   "cell_type": "markdown",
   "metadata": {},
   "source": [
    "# Compute 3-D test-error for each keypoint"
   ]
  },
  {
   "cell_type": "code",
   "execution_count": 6,
   "metadata": {},
   "outputs": [
    {
     "name": "stdout",
     "output_type": "stream",
     "text": [
      "Wrist : 9.07 ± 0.03735 (pixels) | 0.357 rejected\n",
      "CMC_thumb : 5.79 ± 0.02612 (pixels) | 0.222 rejected\n",
      "MCP_thumb : 6.50 ± 0.03240 (pixels) | 0.095 rejected\n",
      "MCP1 : 6.01 ± 0.02650 (pixels) | 0.008 rejected\n",
      "MCP2 : 5.70 ± 0.02729 (pixels) | 0.008 rejected\n",
      "MCP3 : 6.62 ± 0.02312 (pixels) | 0.032 rejected\n",
      "MCP4 : 6.94 ± 0.02956 (pixels) | 0.063 rejected\n",
      "IP_thumb : 6.85 ± 0.03384 (pixels) | 0.198 rejected\n",
      "PIP1 : 8.50 ± 0.05161 (pixels) | 0.008 rejected\n",
      "PIP2 : 9.59 ± 0.05102 (pixels) | 0.087 rejected\n",
      "PIP3 : 10.32 ± 0.04220 (pixels) | 0.024 rejected\n",
      "PIP4 : 9.66 ± 0.04253 (pixels) | 0.056 rejected\n",
      "Dip1 : 8.83 ± 0.04707 (pixels) | 0.087 rejected\n",
      "Dip2 : 13.07 ± 0.03243 (pixels) | 0.817 rejected\n",
      "Dip3 : 10.90 ± 0.04677 (pixels) | 0.214 rejected\n",
      "Dip4 : 9.63 ± 0.04117 (pixels) | 0.270 rejected\n",
      "Tip_thumb : 10.51 ± 0.03956 (pixels) | 0.389 rejected\n",
      "Tip1 : 12.74 ± 0.05246 (pixels) | 0.262 rejected\n",
      "Tip2 : 12.21 ± 0.05865 (pixels) | 0.373 rejected\n",
      "Tip3 : 12.94 ± 0.05454 (pixels) | 0.254 rejected\n",
      "Tip4 : 11.00 ± 0.04119 (pixels) | 0.310 rejected\n",
      "Total : 8.86 ± 0.00213 (pixels) | 0.197 rejected\n"
     ]
    }
   ],
   "source": [
    "# Load 3-D data\n",
    "labeled = pd.read_csv(os.path.join(parent_folder, 'labeled', \n",
    "                                    'output_3d_data_raw.csv'))\n",
    "infered = pd.read_csv(os.path.join(parent_folder, 'experiment', \n",
    "#                                     'output_3d_data_lpf.csv'))\n",
    "                                    'output_3d_data_raw.csv'))\n",
    "    \n",
    "dists = []\n",
    "for j, joint in enumerate(joints):\n",
    "    \n",
    "    poi1_coord = np.stack([labeled[joint+'_x'], \n",
    "                           labeled[joint+'_y'], \n",
    "                           labeled[joint+'_z']], axis=1)\n",
    "    poi2_coord = np.stack([infered[joint+'_x'][indices], \n",
    "                           infered[joint+'_y'][indices], \n",
    "                           infered[joint+'_z'][indices]], axis=1)\n",
    "    dist = np.linalg.norm(poi1_coord - poi2_coord, axis=1)\n",
    "    err_mean = np.nanmean(dist)\n",
    "    err_stderr = np.nanstd(dist)/ len(dist)\n",
    "    prop_nan = np.sum(np.isnan(dist)) / len(dist)\n",
    "    dists.append(dist)\n",
    "    print(joint+f' : {err_mean:.2f} ± {err_stderr:.5f} (pixels) | {prop_nan:.3f} rejected')\n",
    "dists = np.array(dists).reshape(-1,)\n",
    "err_mean = np.nanmean(dists)\n",
    "err_stderr = np.nanstd(dists)/len(dists)\n",
    "prop_nan = np.sum(np.isnan(dists)) / len(dists)\n",
    "print(f'Total : {err_mean:.2f} ± {err_stderr:.5f} (pixels) | {prop_nan:.3f} rejected')"
   ]
  },
  {
   "cell_type": "markdown",
   "metadata": {},
   "source": [
    "### interpolate indices"
   ]
  },
  {
   "cell_type": "code",
   "execution_count": 6,
   "metadata": {},
   "outputs": [],
   "source": [
    "timestamp_paths = [os.path.join(parent_folder, 'experiment', 'cam_'+str(i)+'_logfile.txt') for i in range(4)]\n",
    "max_timestamps = []\n",
    "timestamps = []\n",
    "for timestamp_path in timestamp_paths:\n",
    "    timestamp = np.loadtxt(timestamp_path)\n",
    "    timestamp_diff = np.round(timestamp[1] - timestamp[0])\n",
    "\n",
    "    if timestamp_diff > 4:\n",
    "        df = df.drop(0)\n",
    "        timestamp = timestamp[1:]\n",
    "\n",
    "    timestamp -= timestamp[0]\n",
    "    timestamps.append(timestamp*30)\n",
    "    max_timestamps.append(timestamp[-1]*30)\n",
    "    \n",
    "    max_timestamp = max(max_timestamps)"
   ]
  },
  {
   "cell_type": "markdown",
   "metadata": {},
   "source": [
    "### Compute 3-D test-error for each keypoint"
   ]
  },
  {
   "cell_type": "code",
   "execution_count": 7,
   "metadata": {},
   "outputs": [
    {
     "name": "stdout",
     "output_type": "stream",
     "text": [
      "Wrist : 9.13 ± 0.05557 (mm) | 0.421 rejected\n",
      "CMC_thumb : 5.27 ± 0.02877 (mm) | 0.222 rejected\n",
      "MCP_thumb : 6.01 ± 0.03050 (mm) | 0.135 rejected\n",
      "MCP1 : 6.04 ± 0.03021 (mm) | 0.000 rejected\n",
      "MCP2 : 5.51 ± 0.02223 (mm) | 0.008 rejected\n",
      "MCP3 : 6.17 ± 0.02303 (mm) | 0.024 rejected\n",
      "MCP4 : 6.99 ± 0.02818 (mm) | 0.063 rejected\n",
      "IP_thumb : 5.98 ± 0.03245 (mm) | 0.230 rejected\n",
      "PIP1 : 7.47 ± 0.03667 (mm) | 0.071 rejected\n",
      "PIP2 : 8.69 ± 0.03879 (mm) | 0.095 rejected\n",
      "PIP3 : 8.78 ± 0.03525 (mm) | 0.127 rejected\n",
      "PIP4 : 9.21 ± 0.03993 (mm) | 0.127 rejected\n",
      "Dip1 : 8.48 ± 0.04899 (mm) | 0.214 rejected\n",
      "Dip2 : 9.91 ± 0.23380 (mm) | 0.865 rejected\n",
      "Dip3 : 11.44 ± 0.05116 (mm) | 0.167 rejected\n",
      "Dip4 : 9.94 ± 0.04915 (mm) | 0.262 rejected\n",
      "Tip_thumb : 8.40 ± 0.11301 (mm) | 0.810 rejected\n",
      "Tip1 : 11.82 ± 0.11843 (mm) | 0.667 rejected\n",
      "Tip2 : 12.30 ± 0.07327 (mm) | 0.333 rejected\n",
      "Tip3 : 11.52 ± 0.09897 (mm) | 0.532 rejected\n",
      "Tip4 : 13.30 ± 0.12197 (mm) | 0.690 rejected\n",
      "Total : 8.16 ± 4.70290 (mm) | 0.289 rejected\n"
     ]
    }
   ],
   "source": [
    "labeled = pd.read_csv(os.path.join(parent_folder, 'labeled', \n",
    "                                    'output_3d_data_raw.csv'))\n",
    "infered = pd.read_csv(os.path.join(parent_folder, 'experiment', \n",
    "                                    'output_3d_data_lpf_full.csv'))\n",
    "#                                     'output_3d_data_raw_full.csv'))\n",
    "    \n",
    "dists = []\n",
    "L = int(max_timestamp + 1)\n",
    "timestamp = timestamps[3]\n",
    "t = np.arange(0, L)/30\n",
    "\n",
    "for j, joint in enumerate(joints):\n",
    "    poi1_coord = np.stack([labeled[joint+'_x'], \n",
    "                           labeled[joint+'_y'], \n",
    "                           labeled[joint+'_z']], axis=1)\n",
    "    \n",
    "#     poi2_x = np.interp(timestamp[indices], t, infered[joint+'_x'])\n",
    "#     poi2_y = np.interp(timestamp[indices], t, infered[joint+'_y'])\n",
    "#     poi2_z = np.interp(timestamp[indices], t, infered[joint+'_z'])\n",
    "    \n",
    "    poi2_x = infered[joint+'_x'][np.round(timestamp[indices])]\n",
    "    poi2_y = infered[joint+'_y'][np.round(timestamp[indices])]\n",
    "    poi2_z = infered[joint+'_z'][np.round(timestamp[indices])]\n",
    "    \n",
    "    poi2_coord = np.stack([poi2_x, poi2_y, poi2_z], axis=1)\n",
    "    dist = np.linalg.norm(poi1_coord - poi2_coord, axis=1)\n",
    "    err_mean = np.nanmean(dist)\n",
    "    err_stderr = np.nanstd(dist)/np.sum(np.isfinite(dist))\n",
    "    prop_nan = np.sum(np.isnan(dist)) / len(dist)\n",
    "    dists.append(dist)\n",
    "    print(joint+f' : {err_mean:.2f} ± {err_stderr:.5f} (mm) | {prop_nan:.3f} rejected')\n",
    "dists = np.array(dists).reshape(-1,)\n",
    "err_mean = np.nanmean(dists)\n",
    "err_stderr = np.nanstd(dists)\n",
    "prop_nan = np.sum(np.isnan(dists)) / len(dists)\n",
    "print(f'Total : {err_mean:.2f} ± {err_stderr:.5f} (mm) | {prop_nan:.3f} rejected')"
   ]
  },
  {
   "cell_type": "code",
   "execution_count": null,
   "metadata": {},
   "outputs": [],
   "source": []
  }
 ],
 "metadata": {
  "kernelspec": {
   "display_name": "Python 3",
   "language": "python",
   "name": "python3"
  },
  "language_info": {
   "codemirror_mode": {
    "name": "ipython",
    "version": 3
   },
   "file_extension": ".py",
   "mimetype": "text/x-python",
   "name": "python",
   "nbconvert_exporter": "python",
   "pygments_lexer": "ipython3",
   "version": "3.6.8"
  }
 },
 "nbformat": 4,
 "nbformat_minor": 4
}
