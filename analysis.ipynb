{
 "cells": [
  {
   "cell_type": "code",
   "execution_count": 23,
   "metadata": {},
   "outputs": [
    {
     "name": "stderr",
     "output_type": "stream",
     "text": [
      "100%|██████████| 126/126 [00:25<00:00,  4.99it/s]\n",
      "100%|██████████| 126/126 [00:13<00:00,  9.16it/s]\n",
      "100%|██████████| 126/126 [00:21<00:00,  5.88it/s]\n",
      "100%|██████████| 126/126 [00:24<00:00,  5.12it/s]\n"
     ]
    }
   ],
   "source": [
    "import os\n",
    "import re\n",
    "import numpy as np\n",
    "import pandas as pd\n",
    "from tqdm import tqdm\n",
    "\n",
    "parent_folder = '/home/myp7435/downsampled_videos/1217'\n",
    "label_paths = [os.path.join(parent_folder, 'labeled', 'cam_'+str(i)+'_labeled.csv') for i in range(4)]\n",
    "infer_paths = [os.path.join(parent_folder, 'experiment', 'cam_'+str(i)+'_trimmed_output.csv') for i in range(4)]\n",
    "\n",
    "joints = ['Wrist', 'CMC_thumb', 'MCP_thumb', 'MCP1', 'MCP2', 'MCP3', 'MCP4',\n",
    "          'IP_thumb', 'PIP1', 'PIP2', 'PIP3', 'PIP4', 'Dip1', 'Dip2', 'Dip3', 'Dip4',\n",
    "          'Tip_thumb', 'Tip1', 'Tip2', 'Tip3', 'Tip4']\n",
    "\n",
    "likelihood_cutoffs = [0.05, 0.1, 0.15, 0.2, 0.25, 0.3]\n",
    "err_likelihood_cut = {cutoff:[] for cutoff in likelihood_cutoffs}\n",
    "reject_likelihood_cut = {cutoff:0 for cutoff in likelihood_cutoffs}\n",
    "\n",
    "for label_path, infer_path in zip(label_paths, infer_paths):\n",
    "    df_label = pd.read_csv(label_path, header=[2,3], index_col=0)\n",
    "    df_infer = pd.read_csv(infer_path, header=[0,1], index_col=0)\n",
    "    \n",
    "    indices = [int(re.findall(r'\\d+', file)[-1]) for file in df_label.index]\n",
    "    \n",
    "    \n",
    "    for i, index in enumerate(tqdm(indices)):\n",
    "        for joint in joints:\n",
    "            for likelihood_cutoff in likelihood_cutoffs:\n",
    "                if df_infer[joint]['likelihood'][i] > likelihood_cutoff:\n",
    "                    label = np.array([df_label[joint]['x'][i], df_label[joint]['y'][i]])\n",
    "                    infer = np.array([df_infer[joint]['x'].iloc[index], df_infer[joint]['y'].iloc[index]])\n",
    "                    dist = np.linalg.norm(label - infer, axis=0)\n",
    "                    err_likelihood_cut[likelihood_cutoff].append(dist)\n",
    "                else:\n",
    "                    reject_likelihood_cut[likelihood_cutoff] += 1"
   ]
  },
  {
   "cell_type": "code",
   "execution_count": 30,
   "metadata": {},
   "outputs": [
    {
     "name": "stdout",
     "output_type": "stream",
     "text": [
      "Test error (0.05 cutoff): 9.19 ± 23.82 (pixels) | 0.075 rejected\n",
      "Test error (0.1 cutoff): 9.28 ± 24.50 (pixels) | 0.134 rejected\n",
      "Test error (0.15 cutoff): 9.38 ± 24.79 (pixels) | 0.184 rejected\n",
      "Test error (0.2 cutoff): 9.58 ± 25.71 (pixels) | 0.247 rejected\n",
      "Test error (0.25 cutoff): 9.74 ± 26.75 (pixels) | 0.312 rejected\n",
      "Test error (0.3 cutoff): 9.87 ± 27.60 (pixels) | 0.413 rejected\n"
     ]
    }
   ],
   "source": [
    "for likelihood_cutoff in likelihood_cutoffs:\n",
    "    prop_nan = reject_likelihood_cut[likelihood_cutoff]/(len(indices)*len(joints)*len(label_paths))\n",
    "    err_mean = np.nanmean(err_likelihood_cut[likelihood_cutoff])\n",
    "    err_std = np.nanstd(err_likelihood_cut[likelihood_cutoff])\n",
    "    print(f'Test error ({likelihood_cutoff} cutoff): {err_mean:.2f} ± {err_std:.2f} (pixels) | {prop_nan:.3f} rejected')"
   ]
  },
  {
   "cell_type": "code",
   "execution_count": 25,
   "metadata": {},
   "outputs": [
    {
     "data": {
      "text/plain": [
       "4373"
      ]
     },
     "execution_count": 25,
     "metadata": {},
     "output_type": "execute_result"
    }
   ],
   "source": [
    "reject_likelihood_cut[likelihood_cutoff]"
   ]
  },
  {
   "cell_type": "code",
   "execution_count": 26,
   "metadata": {},
   "outputs": [
    {
     "data": {
      "text/plain": [
       "[0.05, 0.1, 0.15, 0.2, 0.25, 0.3]"
      ]
     },
     "execution_count": 26,
     "metadata": {},
     "output_type": "execute_result"
    }
   ],
   "source": [
    "likelihood_cutoffs"
   ]
  },
  {
   "cell_type": "code",
   "execution_count": 27,
   "metadata": {},
   "outputs": [
    {
     "data": {
      "text/plain": [
       "{0.05: 797, 0.1: 1420, 0.15: 1951, 0.2: 2615, 0.25: 3301, 0.3: 4373}"
      ]
     },
     "execution_count": 27,
     "metadata": {},
     "output_type": "execute_result"
    }
   ],
   "source": [
    "reject_likelihood_cut"
   ]
  },
  {
   "cell_type": "code",
   "execution_count": null,
   "metadata": {},
   "outputs": [],
   "source": []
  }
 ],
 "metadata": {
  "kernelspec": {
   "display_name": "Python 3",
   "language": "python",
   "name": "python3"
  },
  "language_info": {
   "codemirror_mode": {
    "name": "ipython",
    "version": 3
   },
   "file_extension": ".py",
   "mimetype": "text/x-python",
   "name": "python",
   "nbconvert_exporter": "python",
   "pygments_lexer": "ipython3",
   "version": "3.6.8"
  }
 },
 "nbformat": 4,
 "nbformat_minor": 4
}
